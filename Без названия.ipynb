{
 "cells": [
  {
   "cell_type": "code",
   "execution_count": 1,
   "id": "371e4170",
   "metadata": {},
   "outputs": [
    {
     "name": "stdout",
     "output_type": "stream",
     "text": [
      "Unexpected exception formatting exception. Falling back to standard exception\n"
     ]
    },
    {
     "name": "stderr",
     "output_type": "stream",
     "text": [
      "Traceback (most recent call last):\n",
      "  File \"/home/alex_mcqueen2/Jupiter/my_project_env/lib/python3.9/site-packages/IPython/core/interactiveshell.py\", line 3460, in run_code\n",
      "    exec(code_obj, self.user_global_ns, self.user_ns)\n",
      "  File \"/tmp/ipykernel_148474/313927344.py\", line 2, in <module>\n",
      "    from steam.api import APIConnection, IEconItems_730\n",
      "ModuleNotFoundError: No module named 'steam.api'\n",
      "\n",
      "During handling of the above exception, another exception occurred:\n",
      "\n",
      "Traceback (most recent call last):\n",
      "  File \"/home/alex_mcqueen2/Jupiter/my_project_env/lib/python3.9/site-packages/IPython/core/interactiveshell.py\", line 2057, in showtraceback\n",
      "    stb = self.InteractiveTB.structured_traceback(\n",
      "  File \"/home/alex_mcqueen2/Jupiter/my_project_env/lib/python3.9/site-packages/IPython/core/ultratb.py\", line 1288, in structured_traceback\n",
      "    return FormattedTB.structured_traceback(\n",
      "  File \"/home/alex_mcqueen2/Jupiter/my_project_env/lib/python3.9/site-packages/IPython/core/ultratb.py\", line 1177, in structured_traceback\n",
      "    return VerboseTB.structured_traceback(\n",
      "  File \"/home/alex_mcqueen2/Jupiter/my_project_env/lib/python3.9/site-packages/IPython/core/ultratb.py\", line 1030, in structured_traceback\n",
      "    formatted_exception = self.format_exception_as_a_whole(etype, evalue, etb, number_of_lines_of_context,\n",
      "  File \"/home/alex_mcqueen2/Jupiter/my_project_env/lib/python3.9/site-packages/IPython/core/ultratb.py\", line 960, in format_exception_as_a_whole\n",
      "    frames.append(self.format_record(record))\n",
      "  File \"/home/alex_mcqueen2/Jupiter/my_project_env/lib/python3.9/site-packages/IPython/core/ultratb.py\", line 870, in format_record\n",
      "    frame_info.lines, Colors, self.has_colors, lvals\n",
      "  File \"/home/alex_mcqueen2/Jupiter/my_project_env/lib/python3.9/site-packages/IPython/core/ultratb.py\", line 704, in lines\n",
      "    return self._sd.lines\n",
      "  File \"/home/alex_mcqueen2/Jupiter/my_project_env/lib/python3.9/site-packages/stack_data/utils.py\", line 144, in cached_property_wrapper\n",
      "    value = obj.__dict__[self.func.__name__] = self.func(obj)\n",
      "  File \"/home/alex_mcqueen2/Jupiter/my_project_env/lib/python3.9/site-packages/stack_data/core.py\", line 734, in lines\n",
      "    pieces = self.included_pieces\n",
      "  File \"/home/alex_mcqueen2/Jupiter/my_project_env/lib/python3.9/site-packages/stack_data/utils.py\", line 144, in cached_property_wrapper\n",
      "    value = obj.__dict__[self.func.__name__] = self.func(obj)\n",
      "  File \"/home/alex_mcqueen2/Jupiter/my_project_env/lib/python3.9/site-packages/stack_data/core.py\", line 677, in included_pieces\n",
      "    scope_pieces = self.scope_pieces\n",
      "  File \"/home/alex_mcqueen2/Jupiter/my_project_env/lib/python3.9/site-packages/stack_data/utils.py\", line 144, in cached_property_wrapper\n",
      "    value = obj.__dict__[self.func.__name__] = self.func(obj)\n",
      "  File \"/home/alex_mcqueen2/Jupiter/my_project_env/lib/python3.9/site-packages/stack_data/core.py\", line 614, in scope_pieces\n",
      "    scope_start, scope_end = self.source.line_range(self.scope)\n",
      "  File \"/home/alex_mcqueen2/Jupiter/my_project_env/lib/python3.9/site-packages/stack_data/core.py\", line 178, in line_range\n",
      "    return line_range(self.asttext(), node)\n",
      "  File \"/home/alex_mcqueen2/Jupiter/my_project_env/lib/python3.9/site-packages/executing/executing.py\", line 428, in asttext\n",
      "    self._asttext = ASTText(self.text, tree=self.tree, filename=self.filename)\n",
      "  File \"/home/alex_mcqueen2/Jupiter/my_project_env/lib/python3.9/site-packages/asttokens/asttokens.py\", line 307, in __init__\n",
      "    super(ASTText, self).__init__(source_text, filename)\n",
      "  File \"/home/alex_mcqueen2/Jupiter/my_project_env/lib/python3.9/site-packages/asttokens/asttokens.py\", line 44, in __init__\n",
      "    source_text = six.ensure_text(source_text)\n",
      "AttributeError: module 'six' has no attribute 'ensure_text'\n"
     ]
    }
   ],
   "source": [
    "import steam\n",
    "from steam.api import APIConnection, IEconItems_730\n",
    "\n",
    "# Замените 'YOUR_API_KEY' на ваш API-ключ Steam, полученный после регистрации вашего приложения на https://steamcommunity.com/dev/apikey\n",
    "API_KEY = '03912A6A6631C31AD0524BDDBC755493'\n",
    "\n",
    "# Замените 'YOUR_STEAM_ID' на ваш Steam ID\n",
    "STEAM_ID = '76561198892171380'\n",
    "\n",
    "# Создаем соединение с Steam API\n",
    "api = APIConnection(api_key=API_KEY)\n",
    "\n",
    "# Получение списка предметов инвентаря для CS:GO\n",
    "def get_csgo_inventory():\n",
    "    try:\n",
    "        items = api.call(IEconItems_730.GetPlayerItems, steamid=STEAM_ID)\n",
    "        return items['result']['items']\n",
    "    except steam.exceptions.APIError as e:\n",
    "        print(f\"Ошибка при запросе к Steam API: {e}\")\n",
    "        return []\n",
    "\n",
    "# Считаем сумму цен всех предметов в инвентаре\n",
    "def calculate_inventory_value(items):\n",
    "    total_value = 0\n",
    "    for item in items:\n",
    "        if item.get('marketable', 0) == 1:\n",
    "            total_value += float(item.get('sell_price', 0.0))\n",
    "    return total_value\n",
    "\n",
    "csgo_inventory = get_csgo_inventory()\n",
    "total_value = calculate_inventory_value(csgo_inventory)\n",
    "print(f'Сумма всех предметов в инвентаре CS:GO: ${total_value:.2f}')\n"
   ]
  },
  {
   "cell_type": "code",
   "execution_count": null,
   "id": "7be15bce",
   "metadata": {},
   "outputs": [],
   "source": []
  }
 ],
 "metadata": {
  "kernelspec": {
   "display_name": "Python 3 (ipykernel)",
   "language": "python",
   "name": "python3"
  },
  "language_info": {
   "codemirror_mode": {
    "name": "ipython",
    "version": 3
   },
   "file_extension": ".py",
   "mimetype": "text/x-python",
   "name": "python",
   "nbconvert_exporter": "python",
   "pygments_lexer": "ipython3",
   "version": "3.9.13"
  }
 },
 "nbformat": 4,
 "nbformat_minor": 5
}
