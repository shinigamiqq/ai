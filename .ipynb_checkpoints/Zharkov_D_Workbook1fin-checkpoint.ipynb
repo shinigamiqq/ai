{
 "cells": [
  {
   "cell_type": "raw",
   "id": "d6dd4246",
   "metadata": {},
   "source": [
    "1.1. Теоретический материал – Типы данных"
   ]
  },
  {
   "cell_type": "raw",
   "id": "1149dd2e",
   "metadata": {},
   "source": [
    "    Типы данных\n",
    "    Все типы данных в Python относятся к одной из 2-х категорий:\n",
    "изменяемые (mutable) и неизменяемые (immutable).\n",
    "    Неизменяемые объекты:\n",
    "        -числовые данные (int, float),\n",
    "        -bool,\n",
    "        -None,\n",
    "        -символьные строки (class 'str'),\n",
    "        -кортежи (tuple).\n",
    "    Изменяемые объекты:\n",
    "        -списки (list),\n",
    "        -множества (set),\n",
    "        -словари (dict)."
   ]
  },
  {
   "cell_type": "raw",
   "id": "4bda90b9",
   "metadata": {},
   "source": [
    "1.2. Пример"
   ]
  },
  {
   "cell_type": "raw",
   "id": "769f1970",
   "metadata": {},
   "source": [
    "Задача:\n",
    "Выведите на печать и определите тип переменной."
   ]
  },
  {
   "cell_type": "code",
   "execution_count": 1,
   "id": "6e2152fa",
   "metadata": {},
   "outputs": [],
   "source": [
    "x = 3 + 5.2*7\n",
    "y = None\n",
    "z = 'a', 5, 12.345, (2,'b')\n",
    "df = [['Антонова Антонина', 34, 'ж'], ['Борисов Борис', 26, 'м']]\n",
    "A = {1, 'title', 2, 'content'}"
   ]
  },
  {
   "cell_type": "raw",
   "id": "11eeae6a",
   "metadata": {},
   "source": [
    "Решение"
   ]
  },
  {
   "cell_type": "code",
   "execution_count": 2,
   "id": "ca239604",
   "metadata": {
    "scrolled": true
   },
   "outputs": [
    {
     "name": "stdout",
     "output_type": "stream",
     "text": [
      "39.4 | <class 'float'> \n",
      " None | <class 'NoneType'> \n",
      " ('a', 5, 12.345, (2, 'b')) | <class 'tuple'> \n",
      " [['Антонова Антонина', 34, 'ж'], ['Борисов Борис', 26, 'м']] | <class 'list'> \n",
      " {'content', 1, 2, 'title'} | <class 'set'>\n"
     ]
    }
   ],
   "source": [
    "print(x, '|', type(x), '\\n', y, '|', type(y), '\\n',\n",
    "     z, '|', type(z), '\\n', df, '|', type(df), '\\n', A, '|', type(A))"
   ]
  },
  {
   "cell_type": "raw",
   "id": "ef5033ec",
   "metadata": {},
   "source": [
    "Задача:\n",
    "Выведите на печать и определите тип переменной."
   ]
  },
  {
   "cell_type": "code",
   "execution_count": 4,
   "id": "406dad3c",
   "metadata": {},
   "outputs": [],
   "source": [
    "x = 5 >= 2\n",
    "A = {1, 3, 7, 8}\n",
    "B = {2, 4, 5, 10, 'apple'}\n",
    "C = A & B\n",
    "df = 'Антонова Антонина', 34, 'ж'\n",
    "z = 'type'\n",
    "D = [1, 'title', 2, 'content']"
   ]
  },
  {
   "cell_type": "raw",
   "id": "e5431d52",
   "metadata": {},
   "source": [
    "Решение:"
   ]
  },
  {
   "cell_type": "code",
   "execution_count": 6,
   "id": "9e85e436",
   "metadata": {},
   "outputs": [
    {
     "name": "stdout",
     "output_type": "stream",
     "text": [
      "True | <class 'bool'> \n",
      " {8, 1, 3, 7} | <class 'set'> \n",
      " {2, 'apple', 4, 5, 10} | <class 'set'> \n",
      " set() | <class 'set'> \n",
      " ('Антонова Антонина', 34, 'ж') | <class 'tuple'> \n",
      " type | <class 'str'> \n",
      " [1, 'title', 2, 'content'] | <class 'list'>\n"
     ]
    }
   ],
   "source": [
    "print(x, '|', type(x), '\\n', A, '|', type(A), '\\n',\n",
    "     B, '|', type(B), '\\n', C, '|', type(C), '\\n', df, '|', type(df), '\\n', z, '|', type(z), '\\n', D, '|', type(D))"
   ]
  },
  {
   "cell_type": "raw",
   "id": "f2b0eed7",
   "metadata": {},
   "source": [
    "    2.1. Теоретический материал – Условный оператор"
   ]
  },
  {
   "cell_type": "raw",
   "id": "4787f274",
   "metadata": {},
   "source": [
    "If – Условный оператор\n",
    "    В коде часто приходится проверять выполнимость или\n",
    "невыполнимость каких-то условий. Синтаксис:\n",
    "    if <условие1 (булевское выражение)> :\n",
    "     <код, который выполнится, если условие верно>\n",
    "    elif <условие2 (булевское выражение)>:\n",
    "     <код, который выполнится, если условие1 было неверно, а\n",
    "    условие2 верно>\n",
    "    else:\n",
    "     <код, который выполнится, если условие1 и условие2 были\n",
    "    неверны>\n",
    "    Обратите внимание, что код, который должен выполняться внутри\n",
    "каждого условия, записывается с отступом в 4 пробела от уровня if, elif и\n",
    "else: в питоне области видимости переменных обозначаются отступами.\n",
    "    То есть, отступы позволяют понять, где начинается код,\n",
    "который должен выполняться при выполнении условия в if, и где\n",
    "заканчивается.\n"
   ]
  },
  {
   "cell_type": "raw",
   "id": "ef7f061e",
   "metadata": {},
   "source": [
    "2.2. Пример"
   ]
  },
  {
   "cell_type": "raw",
   "id": "c94caafe",
   "metadata": {},
   "source": [
    "Задача:\n",
    "Вывести на экран является ли переменная х положительной,\n",
    "отрицательной или равна нулю.\n"
   ]
  },
  {
   "cell_type": "code",
   "execution_count": 7,
   "id": "0742d980",
   "metadata": {},
   "outputs": [
    {
     "name": "stdout",
     "output_type": "stream",
     "text": [
      "x положительный\n"
     ]
    }
   ],
   "source": [
    "x = 125\n",
    "if x < 0:\n",
    "    print(\"x отрицательный\")\n",
    "elif x==0:\n",
    "    print(\"x равен нулю\")\n",
    "else:\n",
    "    print(\"x положительный\")"
   ]
  },
  {
   "cell_type": "raw",
   "id": "55bc86e7",
   "metadata": {},
   "source": [
    "2.3. Задание"
   ]
  },
  {
   "cell_type": "raw",
   "id": "e926f4e6",
   "metadata": {},
   "source": [
    "Задача:\n",
    "Напишите код. Задается х, напечатать какому из интервалов\n",
    "принадлежит: (-infinity, -5), [-5, 5] или от (5, +infinity)"
   ]
  },
  {
   "cell_type": "raw",
   "id": "d72c4e3d",
   "metadata": {},
   "source": [
    "Решение:"
   ]
  },
  {
   "cell_type": "code",
   "execution_count": 8,
   "id": "f90e05f0",
   "metadata": {},
   "outputs": [
    {
     "name": "stdout",
     "output_type": "stream",
     "text": [
      "8\n",
      "Х принадлежит интервалу (5, +infinity)\n"
     ]
    }
   ],
   "source": [
    "x = int(input())\n",
    "if x < -5:\n",
    "    print(\"X принадлежит интервалу (-infinity, -5)\")\n",
    "if x >= -5 and x <= 5:\n",
    "    print(\"X принадлежит интервалу [-5, 5]\")\n",
    "if x > 5:\n",
    "    print(\"Х принадлежит интервалу (5, +infinity)\")"
   ]
  },
  {
   "cell_type": "raw",
   "id": "7834a168",
   "metadata": {},
   "source": [
    "    3.1.  Теоретический материал – Циклы, массивы, срезы"
   ]
  },
  {
   "cell_type": "raw",
   "id": "b59e3af9",
   "metadata": {},
   "source": [
    "    Циклы - for и while\n",
    "    Цикл while проверяет истинность условия, и если условие истинно, то\n",
    "выполняет инструкции цикла.\n",
    "    Синтаксис:\n",
    "    while условие:\n",
    "     инструкции\n",
    "    Инструкции, которые относятся к циклу while, располагаются на\n",
    "последующих строках и должны иметь отступ от начала ключевого слова\n",
    "while.\n",
    "    Цикл for проходит по набору значений, помещает каждое значение в\n",
    "переменную с которой в цикле можно производить различные действия.\n",
    "    Синтаксис:\n",
    "    for переменная in набор_значений:\n",
    "     инструкции\n",
    "    После ключевого слова for идет название переменной, в которую\n",
    "будут помещаться значения. После оператора in указывается набор значений\n",
    "и двоеточие. Инструкции, которые относятся к циклу, располагаются на\n",
    "последующих строках и должны иметь отступ.\n",
    "    При создании цикла удобно пользоваться функцией range(a, b),\n",
    "которая создает последовательность чисел от a до b-1.\n"
   ]
  },
  {
   "cell_type": "raw",
   "id": "5cf8d851",
   "metadata": {},
   "source": [
    "3.2.1. Пример"
   ]
  },
  {
   "cell_type": "raw",
   "id": "a2ea9741",
   "metadata": {},
   "source": [
    "Задача:\n",
    "Вывести все числа от 1 до 10 с шагом 3."
   ]
  },
  {
   "cell_type": "raw",
   "id": "8573ab57",
   "metadata": {},
   "source": [
    "Решение:"
   ]
  },
  {
   "cell_type": "code",
   "execution_count": 1,
   "id": "411737b0",
   "metadata": {},
   "outputs": [
    {
     "name": "stdout",
     "output_type": "stream",
     "text": [
      "1\n",
      "4\n",
      "7\n",
      "10\n"
     ]
    }
   ],
   "source": [
    "x = 1\n",
    "while x <= 10:\n",
    "    print(x)\n",
    "    x+=3"
   ]
  },
  {
   "cell_type": "raw",
   "id": "1ce5cc66",
   "metadata": {},
   "source": [
    "3.2.2. Пример"
   ]
  },
  {
   "cell_type": "raw",
   "id": "67a2e50d",
   "metadata": {},
   "source": [
    "Задача:\n",
    "Задан список. Напечатать все элементы списка."
   ]
  },
  {
   "cell_type": "raw",
   "id": "25558b22",
   "metadata": {},
   "source": [
    "Решение:"
   ]
  },
  {
   "cell_type": "code",
   "execution_count": 2,
   "id": "5bf5d1d5",
   "metadata": {},
   "outputs": [
    {
     "name": "stdout",
     "output_type": "stream",
     "text": [
      "KNN\n",
      "decision tree\n",
      "linear model\n"
     ]
    }
   ],
   "source": [
    "models = ['KNN', 'decision tree', 'linear model']\n",
    "for model in models:\n",
    "    print(model)"
   ]
  },
  {
   "cell_type": "raw",
   "id": "a7277ff9",
   "metadata": {},
   "source": [
    "3.2.3. Пример"
   ]
  },
  {
   "cell_type": "raw",
   "id": "546c1e61",
   "metadata": {},
   "source": [
    "Задача:\n",
    "Создать список от 1 до 99 с шагом 7."
   ]
  },
  {
   "cell_type": "raw",
   "id": "c0a3303d",
   "metadata": {},
   "source": [
    "Решение:"
   ]
  },
  {
   "cell_type": "code",
   "execution_count": 3,
   "id": "9aa31199",
   "metadata": {},
   "outputs": [
    {
     "name": "stdout",
     "output_type": "stream",
     "text": [
      "[1, 8, 15, 22, 29, 36, 43, 50, 57, 64, 71, 78, 85, 92, 99]\n"
     ]
    }
   ],
   "source": [
    "list_int = range(1, 100, 7)\n",
    "print(list(list_int))"
   ]
  },
  {
   "cell_type": "raw",
   "id": "cfadee62",
   "metadata": {},
   "source": [
    "3.2.4. Пример"
   ]
  },
  {
   "cell_type": "raw",
   "id": "55668fd7",
   "metadata": {},
   "source": [
    "Задача:\n",
    "Вывести на экран числа от 1 до 105 с шагом 25, используя функцию\n",
    "range()"
   ]
  },
  {
   "cell_type": "raw",
   "id": "e84b90c1",
   "metadata": {},
   "source": [
    "Решение:"
   ]
  },
  {
   "cell_type": "code",
   "execution_count": 4,
   "id": "108347f4",
   "metadata": {},
   "outputs": [
    {
     "name": "stdout",
     "output_type": "stream",
     "text": [
      "5\n",
      "30\n",
      "55\n",
      "80\n",
      "105\n"
     ]
    }
   ],
   "source": [
    "for i in range(5, 106, 25):\n",
    "    print(i)"
   ]
  },
  {
   "cell_type": "raw",
   "id": "8dd6c9e8",
   "metadata": {},
   "source": [
    "3.2.5. Пример"
   ]
  },
  {
   "cell_type": "raw",
   "id": "02b634fb",
   "metadata": {},
   "source": [
    "Задача:\n",
    "Срез. Необходимо получить каждый k-й элемент массива a, начиная с\n",
    "элемента с индексом i (включительно) и заканчивая элементом с\n",
    "индексом j (не включительно), c шагом 2. Или переставить все\n",
    "элементы в обратном порядке."
   ]
  },
  {
   "cell_type": "raw",
   "id": "5a7045a0",
   "metadata": {},
   "source": [
    "Решение:"
   ]
  },
  {
   "cell_type": "code",
   "execution_count": 5,
   "id": "e85132b7",
   "metadata": {},
   "outputs": [
    {
     "name": "stdout",
     "output_type": "stream",
     "text": [
      "[2, 4, 6]\n",
      "[9, 8, 7, 6, 5, 4, 3, 2, 1]\n"
     ]
    }
   ],
   "source": [
    "a = [1, 2, 3, 4, 5, 6, 7, 8, 9]\n",
    "b = a[1:7:2]\n",
    "c = a[::-1]\n",
    "print(b)\n",
    "print(c)"
   ]
  },
  {
   "cell_type": "raw",
   "id": "5e9b9bab",
   "metadata": {},
   "source": [
    "3.3.1 Задание"
   ]
  },
  {
   "cell_type": "raw",
   "id": "e16e5362",
   "metadata": {},
   "source": [
    "Задача:\n",
    "Выведите числа из примера на while (3.2.1) в обратном порядке."
   ]
  },
  {
   "cell_type": "raw",
   "id": "6b4276c4",
   "metadata": {},
   "source": [
    "Решение:"
   ]
  },
  {
   "cell_type": "code",
   "execution_count": 6,
   "id": "e8d0ea99",
   "metadata": {},
   "outputs": [
    {
     "name": "stdout",
     "output_type": "stream",
     "text": [
      "10\n",
      "7\n",
      "4\n",
      "1\n"
     ]
    }
   ],
   "source": [
    "x = 10\n",
    "while x > 0:\n",
    "    print(x)\n",
    "    x-=3"
   ]
  },
  {
   "cell_type": "raw",
   "id": "39189ae5",
   "metadata": {},
   "source": [
    "3.3.2 Задание"
   ]
  },
  {
   "cell_type": "raw",
   "id": "3a0fa455",
   "metadata": {},
   "source": [
    "Задача:\n",
    "При решении задач машинного обучения часто в качестве объектов\n",
    "исследования выступает человек. Создайте список значимых\n",
    "характеристик (признаков), идентифицирующих человека. Выведите\n",
    "список на экран."
   ]
  },
  {
   "cell_type": "raw",
   "id": "23216eb9",
   "metadata": {},
   "source": [
    "Решение:"
   ]
  },
  {
   "cell_type": "code",
   "execution_count": 7,
   "id": "d4d79b71",
   "metadata": {},
   "outputs": [
    {
     "name": "stdout",
     "output_type": "stream",
     "text": [
      "Intelligence\n",
      "Feelings\n",
      "Sociality\n"
     ]
    }
   ],
   "source": [
    "models = ['Intelligence', 'Feelings', 'Sociality']\n",
    "for model in models:\n",
    "    print(model)"
   ]
  },
  {
   "cell_type": "raw",
   "id": "6c291d37",
   "metadata": {},
   "source": [
    "3.3.3 Задание"
   ]
  },
  {
   "cell_type": "raw",
   "id": "8da6309f",
   "metadata": {},
   "source": [
    "Задача:\n",
    "Создать список чисел от 2 до 15 с шагом 1."
   ]
  },
  {
   "cell_type": "raw",
   "id": "da021e72",
   "metadata": {},
   "source": [
    "Решение:"
   ]
  },
  {
   "cell_type": "code",
   "execution_count": 10,
   "id": "13aab7f1",
   "metadata": {},
   "outputs": [
    {
     "name": "stdout",
     "output_type": "stream",
     "text": [
      "[2, 3, 4, 5, 6, 7, 8, 9, 10, 11, 12, 13, 14]\n"
     ]
    }
   ],
   "source": [
    "a = [0, 1, 2, 3, 4, 5, 6, 7, 8, 9, 10, 11, 12, 13, 14, 15]\n",
    "b = a[2:15:1]\n",
    "print(b)"
   ]
  },
  {
   "cell_type": "raw",
   "id": "da8948dc",
   "metadata": {},
   "source": [
    "3.3.4 Задание"
   ]
  },
  {
   "cell_type": "raw",
   "id": "3814bddf",
   "metadata": {},
   "source": [
    "Задача:\n",
    "Выведите числа из примера на for c функцией range() (3.2.4) в\n",
    "обратном порядке."
   ]
  },
  {
   "cell_type": "raw",
   "id": "2714c40d",
   "metadata": {},
   "source": [
    "Решение:"
   ]
  },
  {
   "cell_type": "code",
   "execution_count": 14,
   "id": "72f56d44",
   "metadata": {},
   "outputs": [
    {
     "name": "stdout",
     "output_type": "stream",
     "text": [
      "106\n",
      "81\n",
      "56\n",
      "31\n",
      "6\n"
     ]
    }
   ],
   "source": [
    "for i in range(106, 5, -25):\n",
    "    print(i)"
   ]
  },
  {
   "cell_type": "raw",
   "id": "0eeaa542",
   "metadata": {},
   "source": [
    "3.3.5 Задание"
   ]
  },
  {
   "cell_type": "raw",
   "id": "8f4b3b13",
   "metadata": {},
   "source": [
    "Задача:\n",
    "Срез. Напишите код, который все элементы массива x с четными\n",
    "индексами переставит в обратном порядке. Т.е. если x = [0, 1, 2, 3, 4,\n",
    "5, 6, 7, 8, 9], то код должен сформировать [8, 1, 6, 3, 4, 5, 2, 7, 0, 9]."
   ]
  },
  {
   "cell_type": "raw",
   "id": "ad47721b",
   "metadata": {},
   "source": [
    "Решение:"
   ]
  },
  {
   "cell_type": "code",
   "execution_count": 15,
   "id": "9af097b8",
   "metadata": {},
   "outputs": [
    {
     "name": "stdout",
     "output_type": "stream",
     "text": [
      "[8, 1, 6, 3, 4, 5, 2, 7, 0, 9]\n"
     ]
    }
   ],
   "source": [
    "x = [0, 1, 2, 3, 4, 5, 6, 7, 8, 9]\n",
    "x[0::2] = reversed(x[0::2])\n",
    "print(x)"
   ]
  },
  {
   "cell_type": "raw",
   "id": "34750baf",
   "metadata": {},
   "source": [
    "    4.1. Теоретический материал - Библиотеки"
   ]
  },
  {
   "cell_type": "raw",
   "id": "5ff6a3cf",
   "metadata": {},
   "source": [
    "    Машинное обучение опирается на фундаментальные понятия и законы\n",
    "математики и информатики. Библиотека математических функций (math)\n",
    "применяется при решении большинства прикладных задач анализа данных.\n",
    "Также, и некоторые другие библиотеки Python содержат математические\n",
    "функции (например, NumPy). Важную роль играет библиотека matplotlib,\n",
    "которая позволяет производить визуализацию расчетов в удобной для\n",
    "восприятия человеком форме: графики, диаграммы, гистограммы.\n",
    "    Подключение библиотек – синтаксис:\n",
    "import math as m\n",
    "import numpy as np\n",
    "import matplotlib.pyplot as plt\n",
    "etc…\n",
    "Библиотеки в python содержат не только функции, позволяющие решать\n",
    "различные задачи, но и некоторые популярные константы, например число\n",
    "Эйлера."
   ]
  },
  {
   "cell_type": "raw",
   "id": "572c8d1d",
   "metadata": {},
   "source": [
    "4.2.1 Пример"
   ]
  },
  {
   "cell_type": "raw",
   "id": "90c75c56",
   "metadata": {},
   "source": [
    "Задача:\n",
    "Рассчитать синус от е радиан и вывести результат на экран"
   ]
  },
  {
   "cell_type": "raw",
   "id": "0d66b51a",
   "metadata": {},
   "source": [
    "Решение:"
   ]
  },
  {
   "cell_type": "code",
   "execution_count": 16,
   "id": "14621ee2",
   "metadata": {},
   "outputs": [
    {
     "name": "stdout",
     "output_type": "stream",
     "text": [
      "0.41078129050290885\n"
     ]
    }
   ],
   "source": [
    "import math as m\n",
    "print(m.sin(m.e))"
   ]
  },
  {
   "cell_type": "raw",
   "id": "5865929c",
   "metadata": {},
   "source": [
    "4.2.2 Пример"
   ]
  },
  {
   "cell_type": "raw",
   "id": "2552465c",
   "metadata": {},
   "source": [
    "Задача:\n",
    "Для функции sin(𝑥𝑒^cos(𝑥)) на интервале [0;10] с шагом 0,05 построить\n",
    "график функции, закрасить площадь под ним и вычислить значение\n",
    "этой площади.\n",
    "Для вычисления площади воспользуйте функции trapz(), вычисляющей\n",
    "интеграл по правилу трапеции. Для ее корректной работы необходимо\n",
    "подключить следующие библиотеки:\n",
    "from scipy.integrate import simps\n",
    "from numpy import trapz"
   ]
  },
  {
   "cell_type": "raw",
   "id": "21b6efe7",
   "metadata": {},
   "source": [
    "Решение:"
   ]
  },
  {
   "cell_type": "code",
   "execution_count": 19,
   "id": "7b41d9a6",
   "metadata": {},
   "outputs": [
    {
     "name": "stdout",
     "output_type": "stream",
     "text": [
      "73.50792907748662\n"
     ]
    },
    {
     "data": {
      "image/png": "[encoded data removed]",
      "text/plain": [
       "<Figure size 640x480 with 1 Axes>"
      ]
     },
     "metadata": {},
     "output_type": "display_data"
    }
   ],
   "source": [
    "import numpy as np\n",
    "import matplotlib.pyplot as plt\n",
    "from scipy.integrate import simps\n",
    "from numpy import trapz\n",
    "x = np.arange(0.0, 10, 0.1)\n",
    "y = np.abs(np.sin(x*np.exp(np.cos(x))))\n",
    "plt.grid()\n",
    "plt.plot(x, y, c = \"r\")\n",
    "plt.fill_between(x, y)\n",
    "\n",
    "area = trapz(y)\n",
    "print(area)"
   ]
  },
  {
   "cell_type": "raw",
   "id": "ce91fe0f",
   "metadata": {},
   "source": [
    "4.2.3 Пример"
   ]
  },
  {
   "cell_type": "raw",
   "id": "540f8a1c",
   "metadata": {},
   "source": [
    "Задача:\n",
    "Дано некоторое распределение оценок в группе за экзамен. Нарисовать\n",
    "круговую и точечную диаграммы распределения."
   ]
  },
  {
   "cell_type": "raw",
   "id": "165195ba",
   "metadata": {},
   "source": [
    "Решение:"
   ]
  },
  {
   "cell_type": "code",
   "execution_count": 20,
   "id": "1105b863",
   "metadata": {},
   "outputs": [
    {
     "data": {
      "image/png": "[encoded data removed]",
      "text/plain": [
       "<Figure size 1000x700 with 1 Axes>"
      ]
     },
     "metadata": {},
     "output_type": "display_data"
    },
    {
     "data": {
      "text/plain": [
       "<matplotlib.collections.PathCollection at 0x2118bf53e50>"
      ]
     },
     "execution_count": 20,
     "metadata": {},
     "output_type": "execute_result"
    },
    {
     "data": {
      "image/png": "[encoded data removed]",
      "text/plain": [
       "<Figure size 640x480 with 1 Axes>"
      ]
     },
     "metadata": {},
     "output_type": "display_data"
    }
   ],
   "source": [
    "from matplotlib import pyplot as plt\n",
    "import numpy as np\n",
    "\n",
    "marks = ['Неуд', 'Удовл', 'Хор', 'Отл']\n",
    "\n",
    "data = [3, 7, 8, 4]\n",
    "fig = plt.figure(figsize = (10, 7))\n",
    "plt.pie(data, labels = marks)\n",
    "plt.show()\n",
    "plt.grid()\n",
    "plt.scatter(marks, data)"
   ]
  },
  {
   "cell_type": "raw",
   "id": "f3287eb4",
   "metadata": {},
   "source": [
    "4.3.1 Задание"
   ]
  },
  {
   "cell_type": "raw",
   "id": "7b569a19",
   "metadata": {},
   "source": [
    "Задача:\n",
    "Задайте массив случайных значений из интервала(0; 1).\n",
    "Рассчитайте средние и медианные значения для массива, сравните\n",
    "результаты, какие выводы можно сделать о значениях?\n",
    "Постройте точечную диаграмму рассения полученного ряда."
   ]
  },
  {
   "cell_type": "raw",
   "id": "8c0f5bee",
   "metadata": {},
   "source": [
    "Решение:"
   ]
  },
  {
   "cell_type": "code",
   "execution_count": 21,
   "id": "9738d08d",
   "metadata": {},
   "outputs": [
    {
     "name": "stdout",
     "output_type": "stream",
     "text": [
      "[0.43233949 0.5560188  0.62837521 0.73606262 0.99872123 0.9213156\n",
      " 0.43536172 0.69203135 0.19482551 0.75620513 0.74799496 0.82867425\n",
      " 0.01856768 0.90543933 0.2474323  0.57252728 0.5864651  0.598693\n",
      " 0.16270422 0.25212895 0.98040087 0.22077961 0.53289326 0.85154992\n",
      " 0.95685434 0.08661298 0.99072551 0.39606829 0.89599093 0.14385101\n",
      " 0.27717894 0.7659495  0.45098332 0.80139353 0.07878671 0.82655314\n",
      " 0.33967866 0.12312968 0.39565538 0.20908265 0.06307548 0.73177363\n",
      " 0.58108808 0.47355468 0.85824366 0.03113295 0.92413709 0.80861855\n",
      " 0.07697961 0.64053044]\n",
      "Средние значения 0.5357027222885944\n",
      "Медианные значения 0.5768076840060088\n"
     ]
    },
    {
     "data": {
      "image/png": "[encoded data removed]",
      "text/plain": [
       "<Figure size 1000x700 with 1 Axes>"
      ]
     },
     "metadata": {},
     "output_type": "display_data"
    }
   ],
   "source": [
    "import numpy as np\n",
    "import random\n",
    "from statistics import mean\n",
    "from statistics import median\n",
    "import matplotlib.pyplot as plt\n",
    "\n",
    "array = np.random.sample(50)\n",
    "list_avg = mean(array)\n",
    "median_avg = median(array)\n",
    "\n",
    "size = len(array)\n",
    "\n",
    "data = [1]*size\n",
    "fig = plt.figure(figsize =(10,7))\n",
    "\n",
    "#plt.show()\n",
    "#plt.grid()\n",
    "plt.scatter (array, data)\n",
    "\n",
    "print(array)\n",
    "print(\"Средние значения\", list_avg)\n",
    "print(\"Медианные значения\", median_avg)"
   ]
  },
  {
   "cell_type": "raw",
   "id": "3da48e58",
   "metadata": {},
   "source": [
    "4.3.2 Задание"
   ]
  },
  {
   "cell_type": "raw",
   "id": "6b3a996f",
   "metadata": {},
   "source": [
    "Дана функция sqrt(1+e^sqrt(1) + cos(x^2))\\(|1-sin^3(x)|)+ln|2x| Создать массив из 10 значений\n",
    "функции (𝑥, например, изменяется от 1 до 10). Выделить срез первой\n",
    "половины массива и построить графики для основного массива –\n",
    "линейный и для среза – точечный"
   ]
  },
  {
   "cell_type": "raw",
   "id": "b0f127bc",
   "metadata": {},
   "source": [
    "Решение:"
   ]
  },
  {
   "cell_type": "code",
   "execution_count": 22,
   "id": "bfc6f838",
   "metadata": {},
   "outputs": [
    {
     "data": {
      "image/png": "[encoded data removed]",
      "text/plain": [
       "<Figure size 640x480 with 1 Axes>"
      ]
     },
     "metadata": {},
     "output_type": "display_data"
    },
    {
     "data": {
      "text/plain": [
       "<Figure size 1000x700 with 0 Axes>"
      ]
     },
     "metadata": {},
     "output_type": "display_data"
    },
    {
     "data": {
      "text/plain": [
       "<matplotlib.collections.PathCollection at 0x2118d2141c0>"
      ]
     },
     "execution_count": 22,
     "metadata": {},
     "output_type": "execute_result"
    },
    {
     "data": {
      "image/png": "[encoded data removed]",
      "text/plain": [
       "<Figure size 640x480 with 1 Axes>"
      ]
     },
     "metadata": {},
     "output_type": "display_data"
    }
   ],
   "source": [
    "import matplotlib.pyplot as plt\n",
    "import numpy as np\n",
    "array = [1, 2, 3, 4, 5, 6, 7, 8, 9, 10]\n",
    "srez = array[0:5]\n",
    "\n",
    "\n",
    "x = np.arange(1, 11, 1)\n",
    "y = np.divide(np.sqrt(1+np.exp(np.sqrt(x))+np.cos(np.power(x, 2))),np.abs(1-np.power(np.sin(x),3)))+np.log(np.abs(2*x))\n",
    "plt.grid()\n",
    "plt.plot(x, y)\n",
    "\n",
    "\n",
    "\n",
    "sr = np.arange(1, 6, 1)\n",
    "y1 = np.divide(np.sqrt(1+np.exp(np.sqrt(sr))+np.cos(np.power(sr, 2))),np.abs(1-np.power(np.sin(sr),3)))+np.log(np.abs(2*sr))\n",
    "fig = plt.figure(figsize =(10,7))\n",
    "plt.show()\n",
    "plt.scatter (sr, y1)"
   ]
  },
  {
   "cell_type": "raw",
   "id": "f331e39e",
   "metadata": {},
   "source": [
    "4.3.3 Задание"
   ]
  },
  {
   "cell_type": "raw",
   "id": "386abb0e",
   "metadata": {},
   "source": [
    "Дана функция |cos(𝑥𝑒(cos(𝑥)+ln(𝑥+1)))| \n",
    "Построить график на интервале (0,10) с шагом 1 с заливкой площади и найти эту площадь\n",
    "под ним. Для вычисления площади воспользуйте функции trapz(),\n",
    "вычисляющей интеграл по правилу трапеции.\n",
    "Для ее корректной работы необходимо подключить следующие\n",
    "библиотеки:\n",
    "from scipy.integrate import simps\n",
    "from numpy import trapz"
   ]
  },
  {
   "cell_type": "raw",
   "id": "86957064",
   "metadata": {},
   "source": [
    "Решение:"
   ]
  },
  {
   "cell_type": "code",
   "execution_count": 23,
   "id": "691661e1",
   "metadata": {},
   "outputs": [
    {
     "name": "stdout",
     "output_type": "stream",
     "text": [
      "Площадь равна 6.260345875494747\n"
     ]
    },
    {
     "data": {
      "image/png": "[encoded data removed]",
      "text/plain": [
       "<Figure size 640x480 with 1 Axes>"
      ]
     },
     "metadata": {},
     "output_type": "display_data"
    }
   ],
   "source": [
    "from scipy.integrate import simps\n",
    "from numpy import trapz\n",
    "import numpy as np\n",
    "import matplotlib.pyplot as plt\n",
    "x = np.arange(0.0, 10, 1)\n",
    "y = np.abs(np.cos(x*np.exp(np.cos(x)+np.log(x+1))))\n",
    "plt.grid()\n",
    "plt.plot(x, y, c = \"r\")\n",
    "plt.fill_between(x, y)\n",
    "\n",
    "area = trapz(y)\n",
    "print(\"Площадь равна\", area)"
   ]
  },
  {
   "cell_type": "raw",
   "id": "1b996e61",
   "metadata": {},
   "source": [
    "4.3.4 Задание"
   ]
  },
  {
   "cell_type": "raw",
   "id": "2176ee8b",
   "metadata": {},
   "source": [
    "Откройте статистические данные по стоимости акций Apple,\n",
    "Microsoft, Google за 12 месяцев 2021 г. Постройте 3 графика на\n",
    "плоскости и оцените их динамику. Подумайте, как можно улучшить\n",
    "читаемость результатов.\n",
    "Для начальных данных допустимо использовать следующий ресурс:\n",
    "https://finance.yahoo.com"
   ]
  },
  {
   "cell_type": "raw",
   "id": "6c8f5c3c",
   "metadata": {},
   "source": [
    "Решение:"
   ]
  },
  {
   "cell_type": "code",
   "execution_count": 26,
   "id": "c5826dc1",
   "metadata": {},
   "outputs": [
    {
     "data": {
      "text/plain": [
       "<matplotlib.legend.Legend at 0x2118d356880>"
      ]
     },
     "execution_count": 26,
     "metadata": {},
     "output_type": "execute_result"
    },
    {
     "data": {
      "image/png": "[encoded data removed]",
      "text/plain": [
       "<Figure size 640x480 with 1 Axes>"
      ]
     },
     "metadata": {},
     "output_type": "display_data"
    }
   ],
   "source": [
    "import matplotlib.pyplot as plt\n",
    "x = [1, 2, 3, 4, 5, 6, 7, 8, 9, 10, 11, 12]\n",
    "y_apple = [177.83, 174.01, 164.70, 174.03, 156.71, 149.90, 136.04, 161.01, 156.64, 138.21, 155.08, 148.21]\n",
    "\n",
    "\n",
    "fig = plt.figure()\n",
    "ax = fig.add_axes([0,0,1,1])\n",
    "\n",
    "plt.grid()\n",
    "plt.plot(x, y_apple, label = \"Apple\")\n",
    "y_microsoft = [335.35, 310.41, 296.40, 309.37, 277.71, 275.20, 256.39, 277.82, 258.87, 235.41, 234.60, 253.87]\n",
    "plt.plot(x, y_microsoft, label = \"Microsoft\")\n",
    "y_google = [144.48, 137.84, 134.48, 140.01, 113.91, 114.93, 108.34, 115.53, 109.20, 97.22, 95.59, 101.40]\n",
    "plt.plot(x, y_google, label = \"Google\")\n",
    "\n",
    "ax.legend()"
   ]
  },
  {
   "cell_type": "raw",
   "id": "4d216883",
   "metadata": {},
   "source": [
    "4.3.5 Задание"
   ]
  },
  {
   "cell_type": "raw",
   "id": "ee096578",
   "metadata": {},
   "source": [
    "Задача:\n",
    "Создайте простейший калькулятор, включающий основные действия\n",
    "для двух переменных ′ + ′, ′ − ′, ′ ∙ ′, ′ ÷ ′, а также вычисление\n",
    "следующих функций: 𝑒^(𝑥+𝑦), sin(𝑥 + 𝑦) , cos(𝑥 + 𝑦) , 𝑥^𝑦."
   ]
  },
  {
   "cell_type": "raw",
   "id": "076b0707",
   "metadata": {},
   "source": [
    "Решение:"
   ]
  },
  {
   "cell_type": "code",
   "execution_count": 27,
   "id": "7cddbf42",
   "metadata": {},
   "outputs": [
    {
     "name": "stdout",
     "output_type": "stream",
     "text": [
      "\n",
      "Введите символ операции, которую вы хотите совершить\n",
      "+ : сложение\n",
      "- : вычитание\n",
      "/ : деление\n",
      "* : умножение\n",
      "e : e^x+y\n",
      "sin : sin(x+y)\n",
      "cos : cos(x+y)\n",
      "^ : x^y\n",
      "\n",
      "-\n",
      "\n",
      "Ваш выбор: \n",
      " -\n",
      "Введите первое число(x)10\n",
      "Введите второе число(y)-3\n",
      "Результат:  13\n"
     ]
    }
   ],
   "source": [
    "import numpy as np\n",
    "import math as m\n",
    "\n",
    "message = '''\n",
    "Введите символ операции, которую вы хотите совершить\n",
    "+ : сложение\n",
    "- : вычитание\n",
    "/ : деление\n",
    "* : умножение\n",
    "e : e^x+y\n",
    "sin : sin(x+y)\n",
    "cos : cos(x+y)\n",
    "^ : x^y\n",
    "'''\n",
    "choice = '''\n",
    "Ваш выбор: \n",
    "'''\n",
    "print(message)\n",
    "operation = input()\n",
    "print(choice, operation)\n",
    "x = int(input('Введите первое число(x)'))\n",
    "y = int(input('Введите второе число(y)'))\n",
    "if operation == '+':\n",
    "    result = x+y\n",
    "elif operation == '-':\n",
    "    result = x-y\n",
    "elif operation == '/':\n",
    "    result = x/y\n",
    "elif operation == '*':\n",
    "    result = x*y\n",
    "elif operation == 'e':\n",
    "    result = np.exp(x+y)\n",
    "elif operation == 'sin':\n",
    "    result = m.sin(x+y)\n",
    "elif operation == 'cos':\n",
    "    result = m.cos(x+y)\n",
    "elif operation == '^':\n",
    "    result = x**y\n",
    "else:\n",
    "    result = 'Неизвестная операция'\n",
    "print('Результат: ', result)\n"
   ]
  },
  {
   "cell_type": "code",
   "execution_count": null,
   "id": "744194f9",
   "metadata": {},
   "outputs": [],
   "source": []
  }
 ],
 "metadata": {
  "kernelspec": {
   "display_name": "Python 3 (ipykernel)",
   "language": "python",
   "name": "python3"
  },
  "language_info": {
   "codemirror_mode": {
    "name": "ipython",
    "version": 3
   },
   "file_extension": ".py",
   "mimetype": "text/x-python",
   "name": "python",
   "nbconvert_exporter": "python",
   "pygments_lexer": "ipython3",
   "version": "3.9.13"
  }
 },
 "nbformat": 4,
 "nbformat_minor": 5
}
